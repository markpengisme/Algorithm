{
 "cells": [
  {
   "cell_type": "markdown",
   "metadata": {},
   "source": [
    "# ch4"
   ]
  },
  {
   "cell_type": "markdown",
   "metadata": {},
   "source": [
    "## Tree"
   ]
  },
  {
   "cell_type": "code",
   "execution_count": 69,
   "metadata": {},
   "outputs": [],
   "source": [
    "class Tree:\n",
    "    def __init__(self):\n",
    "        self.root = None\n",
    "\n",
    "\n",
    "    class TreeNode:    \n",
    "        def __init__(self, data, parent=None):\n",
    "            self.data = data\n",
    "            self.parent = parent\n",
    "            self.left = None\n",
    "            self.right = None\n",
    "            \n",
    "        def __str__(self):\n",
    "            return str(self.data)\n",
    "        \n",
    "        \n",
    "        \n",
    "    def create_Binary_Tree(self, arr):\n",
    "        for data in arr:\n",
    "            self.insert_in_order(data, self.root)\n",
    "        \n",
    "    def insert_in_order(self, data, parent=None):\n",
    "        node = self.TreeNode(data)\n",
    "        if parent is None:\n",
    "            self.root = node\n",
    "            \n",
    "        elif data < parent.data:\n",
    "            \n",
    "            if parent.left is None:\n",
    "                parent.left = node\n",
    "                node.parent = parent\n",
    "            else:\n",
    "                self.insert_in_order(data, parent.left)\n",
    "                \n",
    "        else:\n",
    "            if parent.right is None:\n",
    "                parent.right = node\n",
    "                node.parent = parent\n",
    "            else:\n",
    "                self.insert_in_order(data, parent.right)\n",
    "            \n",
    "    \n",
    "    def in_order_traversal(self, node):\n",
    "        if node is not None:\n",
    "            self.in_order_traversal(node.left)\n",
    "            print(node)\n",
    "            self.in_order_traversal(node.right)\n",
    "\n",
    "    def pre_order_traversal(self, node):\n",
    "        if node is not None:\n",
    "            print(node)\n",
    "            self.pre_order_traversal(node.left)\n",
    "            self.pre_order_traversal(node.right)\n",
    "            \n",
    "    def post_order_traversal(self, node):\n",
    "        if node is not None:\n",
    "            self.post_order_traversal(node.left)\n",
    "            self.post_order_traversal(node.right)\n",
    "            print(node)\n",
    "  "
   ]
  },
  {
   "cell_type": "markdown",
   "metadata": {},
   "source": [
    "## Tree traversal"
   ]
  },
  {
   "cell_type": "code",
   "execution_count": 76,
   "metadata": {},
   "outputs": [
    {
     "name": "stdout",
     "output_type": "stream",
     "text": [
      "2\n",
      "4\n",
      "8\n",
      "10\n",
      "12\n",
      "20\n",
      "\n",
      "\n",
      "8\n",
      "4\n",
      "2\n",
      "10\n",
      "12\n",
      "20\n",
      "\n",
      "\n",
      "2\n",
      "4\n",
      "20\n",
      "12\n",
      "10\n",
      "8\n",
      "\n",
      "\n"
     ]
    }
   ],
   "source": [
    "t = Tree()\n",
    "t.create_Binary_Tree([8,4,10,2,12,20])\n",
    "t.in_order_traversal(t.root)\n",
    "print(\"\\n\")\n",
    "t.pre_order_traversal(t.root)\n",
    "print(\"\\n\")\n",
    "t.post_order_traversal(t.root)\n",
    "print(\"\\n\")"
   ]
  },
  {
   "cell_type": "code",
   "execution_count": null,
   "metadata": {},
   "outputs": [],
   "source": []
  }
 ],
 "metadata": {
  "kernelspec": {
   "display_name": "Python 3",
   "language": "python",
   "name": "python3"
  },
  "language_info": {
   "codemirror_mode": {
    "name": "ipython",
    "version": 3
   },
   "file_extension": ".py",
   "mimetype": "text/x-python",
   "name": "python",
   "nbconvert_exporter": "python",
   "pygments_lexer": "ipython3",
   "version": "3.7.4"
  }
 },
 "nbformat": 4,
 "nbformat_minor": 2
}
