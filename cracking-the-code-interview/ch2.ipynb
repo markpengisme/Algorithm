{
 "cells": [
  {
   "cell_type": "code",
   "execution_count": 1,
   "metadata": {},
   "outputs": [],
   "source": [
    "import unittest, time, copy, random\n",
    "from typing import *\n",
    "def runtest(class_name):\n",
    "    suite = unittest.TestSuite()\n",
    "    suite = unittest.TestLoader().loadTestsFromTestCase(class_name)\n",
    "    unittest.TextTestRunner().run(suite)"
   ]
  },
  {
   "cell_type": "code",
   "execution_count": 2,
   "metadata": {},
   "outputs": [],
   "source": [
    "class LinkedListNode:\n",
    "\n",
    "    def __init__(self, value, nextNode=None, prevNode=None):\n",
    "        self.value = value\n",
    "        self.next = nextNode\n",
    "        self.prev = prevNode\n",
    "\n",
    "    def __str__(self):\n",
    "        return str(self.value)\n",
    "    \n",
    "def append_to_tail(head, d):\n",
    "    end = LinkedListNode(d)\n",
    "    n = head\n",
    "    while n.next:\n",
    "        n = n.next\n",
    "    n.next = end\n",
    "    \n",
    "    \n",
    "def deleteNode(head, d) -> LinkedListNode:\n",
    "    n = head\n",
    "\n",
    "    # delete head\n",
    "    if n.data == d:\n",
    "        return head.next\n",
    "\n",
    "    while n.next:\n",
    "        if n.next.data == d:\n",
    "            # delete other\n",
    "            n.next = n.next.next\n",
    "            return head\n",
    "        n = n.next\n",
    "    return head\n",
    "    "
   ]
  },
  {
   "cell_type": "markdown",
   "metadata": {},
   "source": [
    "# LinkedList lib"
   ]
  },
  {
   "cell_type": "code",
   "execution_count": 3,
   "metadata": {},
   "outputs": [],
   "source": [
    "from random import randint\n",
    "\n",
    "\n",
    "class LinkedList:\n",
    "\n",
    "    def __init__(self, values=None):\n",
    "        self.head = None\n",
    "        self.tail = None\n",
    "        if values is not None:\n",
    "            self.add_multiple(values)\n",
    "\n",
    "    def __iter__(self):\n",
    "        current = self.head\n",
    "        while current:\n",
    "            yield current\n",
    "            current = current.next\n",
    "\n",
    "    def __str__(self):\n",
    "        values = [str(x) for x in self]\n",
    "        return ' -> '.join(values)\n",
    "\n",
    "    def __len__(self):\n",
    "        result = 0\n",
    "        node = self.head\n",
    "        while node:\n",
    "            result += 1\n",
    "            node = node.next\n",
    "        return result\n",
    "\n",
    "    def add(self, value):\n",
    "        if self.head is None:\n",
    "            self.tail = self.head = LinkedListNode(value)\n",
    "        else:\n",
    "            self.tail.next = LinkedListNode(value)\n",
    "            self.tail = self.tail.next\n",
    "        return self.tail\n",
    "\n",
    "    def add_to_beginning(self, value):\n",
    "        if self.head is None:\n",
    "            self.tail = self.head = LinkedListNode(value)\n",
    "        else:\n",
    "            self.head = LinkedListNode(value, self.head)\n",
    "        return self.head\n",
    "\n",
    "    def add_multiple(self, values):\n",
    "        for v in values:\n",
    "            self.add(v)\n",
    "\n",
    "    def generate(self, n, min_value, max_value):\n",
    "        self.head = self.tail = None\n",
    "        for i in range(n):\n",
    "            self.add(randint(min_value, max_value))\n",
    "        return self\n",
    "\n",
    "\n",
    "class DoublyLinkedList(LinkedList):\n",
    "\n",
    "    def add(self, value):\n",
    "        if self.head is None:\n",
    "            self.tail = self.head = LinkedListNode(value, None, self.tail)\n",
    "        else:\n",
    "            self.tail.next = LinkedListNode(value)\n",
    "            self.tail = self.tail.next\n",
    "        return self"
   ]
  },
  {
   "cell_type": "markdown",
   "metadata": {},
   "source": [
    "# ch2.1 Remove Dups"
   ]
  },
  {
   "cell_type": "code",
   "execution_count": 4,
   "metadata": {},
   "outputs": [],
   "source": [
    "def remove_dups(ll):\n",
    "    ''' 刪除 linked list 重複值的節點，O(n)，使用hash table紀錄重複值 '''\n",
    "    buffer = {}\n",
    "    current = ll.head\n",
    "    prev = None\n",
    "    \n",
    "    while(current):\n",
    "        if buffer.get(current.value, False):\n",
    "            prev.next = current.next\n",
    "        else:\n",
    "            buffer[current.value] = True\n",
    "            prev = current\n",
    "        current = current.next\n",
    "\n",
    "def remove_dups2(ll):\n",
    "    ''' 刪除 linked list 重複值的節點，O(n^2)+O(1)，\n",
    "        使用兩個指標一個記錄current一個當runner刪除後續同值節點'''\n",
    "    \n",
    "    current = ll.head\n",
    "    \n",
    "    while(current):\n",
    "        runner = current\n",
    "        while runner.next:\n",
    "            if runner.next.data == current.data:\n",
    "                runner.next = runeer.next.next\n",
    "            else:\n",
    "                runner = runner.next\n",
    "                \n",
    "        current = current.next\n",
    "        "
   ]
  },
  {
   "cell_type": "code",
   "execution_count": 5,
   "metadata": {},
   "outputs": [
    {
     "name": "stderr",
     "output_type": "stream",
     "text": [
      "..\n",
      "----------------------------------------------------------------------\n",
      "Ran 2 tests in 0.008s\n",
      "\n",
      "OK\n"
     ]
    }
   ],
   "source": [
    "class TestRemoveDups(unittest.TestCase):\n",
    "    def setUp(self):\n",
    "        self.ll = LinkedList().generate(100,0,9)\n",
    "        \n",
    "\n",
    "    def test_remove_dups(self):\n",
    "        ll = copy.deepcopy(self.ll)\n",
    "        s = set()\n",
    "        remove_dups(ll)\n",
    "        \n",
    "        for i in ll:\n",
    "            self.assertNotIn(i.value, s)\n",
    "            s.add(i.value)\n",
    "        \n",
    "        for i in self.ll:\n",
    "            self.assertIn(i.value, s)\n",
    "            \n",
    "    \n",
    "    def test_remove_dups2(self):\n",
    "        ll = copy.deepcopy(self.ll)\n",
    "        s = set()\n",
    "        remove_dups(ll)\n",
    "        \n",
    "        for i in ll:\n",
    "            self.assertNotIn(i.value, s)\n",
    "            s.add(i.value)\n",
    "        \n",
    "        for i in self.ll:\n",
    "            self.assertIn(i.value, s)\n",
    "        \n",
    "        \n",
    "runtest(TestRemoveDups)"
   ]
  },
  {
   "cell_type": "markdown",
   "metadata": {},
   "source": [
    "# ch2.2 Return Kth To Last"
   ]
  },
  {
   "cell_type": "code",
   "execution_count": 6,
   "metadata": {},
   "outputs": [
    {
     "name": "stdout",
     "output_type": "stream",
     "text": [
      "50 -> 77 -> 73 -> 36 -> 54 -> 14 -> 0 -> 53 -> 96 -> 67\n",
      "53\n"
     ]
    }
   ],
   "source": [
    "def retrun_kth_to_last(ll, k):\n",
    "    ''' 從後數來第k個元素，O(n)，使用兩個指標第一個先移到第k個元素，\n",
    "    之後一起往後，等到第一個到最後，第二個就是要的第n-k個元素'''\n",
    "    runner = current = ll.head\n",
    "    \n",
    "    for i in range(k):\n",
    "        if runner is None:\n",
    "            return None\n",
    "        runner = runner.next\n",
    "        \n",
    "    while runner:\n",
    "        runner = runner.next\n",
    "        current = current.next\n",
    "        \n",
    "    return current\n",
    "\n",
    "ll = LinkedList()\n",
    "ll.generate(10, 0, 99)\n",
    "print(ll)\n",
    "print(retrun_kth_to_last(ll, 3))"
   ]
  },
  {
   "cell_type": "code",
   "execution_count": 7,
   "metadata": {},
   "outputs": [
    {
     "name": "stderr",
     "output_type": "stream",
     "text": [
      "."
     ]
    },
    {
     "name": "stdout",
     "output_type": "stream",
     "text": [
      "Linked list 24 -> 28 -> 35 -> 49 -> 36 -> 13 -> 2 -> 93 -> 76 -> 48\n",
      "從後往前數第5個為13\n"
     ]
    },
    {
     "name": "stderr",
     "output_type": "stream",
     "text": [
      "\n",
      "----------------------------------------------------------------------\n",
      "Ran 1 test in 0.003s\n",
      "\n",
      "OK\n"
     ]
    }
   ],
   "source": [
    "class TestReturnKthToLast(unittest.TestCase):\n",
    "    def setUp(self):\n",
    "        self.ll = LinkedList().generate(10,0,99)\n",
    "        \n",
    "\n",
    "    def test_retrun_kth_to_last(self):\n",
    "        k = random.randint(1,10)\n",
    "        ll = copy.deepcopy(self.ll)\n",
    "        ans = retrun_kth_to_last(ll, k)\n",
    "        current = ll.head\n",
    "        \n",
    "        for i in range(10 - k):\n",
    "            if current is None:\n",
    "                self.assertIsNone(ans)\n",
    "            current = current.next\n",
    "        print(f\"Linked list {self.ll}\\n從後往前數第{k}個為{ans.value}\")\n",
    "        self.assertEqual(ans.value, current.value)\n",
    "        \n",
    "runtest(TestReturnKthToLast)          "
   ]
  },
  {
   "cell_type": "code",
   "execution_count": null,
   "metadata": {},
   "outputs": [],
   "source": []
  },
  {
   "cell_type": "code",
   "execution_count": null,
   "metadata": {},
   "outputs": [],
   "source": []
  }
 ],
 "metadata": {
  "kernelspec": {
   "display_name": "Python 3",
   "language": "python",
   "name": "python3"
  },
  "language_info": {
   "codemirror_mode": {
    "name": "ipython",
    "version": 3
   },
   "file_extension": ".py",
   "mimetype": "text/x-python",
   "name": "python",
   "nbconvert_exporter": "python",
   "pygments_lexer": "ipython3",
   "version": "3.7.4"
  }
 },
 "nbformat": 4,
 "nbformat_minor": 2
}
