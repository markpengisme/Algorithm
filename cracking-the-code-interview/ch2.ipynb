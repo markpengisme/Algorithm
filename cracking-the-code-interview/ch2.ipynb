{
 "cells": [
  {
   "cell_type": "code",
   "execution_count": 1,
   "metadata": {},
   "outputs": [],
   "source": [
    "import unittest, time, copy, random\n",
    "from typing import *\n",
    "def runtest(class_name):\n",
    "    suite = unittest.TestSuite()\n",
    "    suite = unittest.TestLoader().loadTestsFromTestCase(class_name)\n",
    "    unittest.TextTestRunner().run(suite)"
   ]
  },
  {
   "cell_type": "code",
   "execution_count": 2,
   "metadata": {},
   "outputs": [],
   "source": [
    "class LinkedListNode:\n",
    "\n",
    "    def __init__(self, value, nextNode=None, prevNode=None):\n",
    "        self.value = value\n",
    "        self.next = nextNode\n",
    "        self.prev = prevNode\n",
    "\n",
    "    def __str__(self):\n",
    "        return str(self.value)\n",
    "    \n",
    "def append_to_tail(head, d):\n",
    "    end = LinkedListNode(d)\n",
    "    n = head\n",
    "    while n.next:\n",
    "        n = n.next\n",
    "    n.next = end\n",
    "    \n",
    "    \n",
    "def deleteNode(head, d) -> LinkedListNode:\n",
    "    n = head\n",
    "\n",
    "    # delete head\n",
    "    if n.data == d:\n",
    "        return head.next\n",
    "\n",
    "    while n.next:\n",
    "        if n.next.data == d:\n",
    "            # delete other\n",
    "            n.next = n.next.next\n",
    "            return head\n",
    "        n = n.next\n",
    "    return head\n",
    "    "
   ]
  },
  {
   "cell_type": "markdown",
   "metadata": {},
   "source": [
    "# LinkedList lib"
   ]
  },
  {
   "cell_type": "code",
   "execution_count": 3,
   "metadata": {},
   "outputs": [],
   "source": [
    "from random import randint\n",
    "\n",
    "\n",
    "class LinkedList:\n",
    "\n",
    "    def __init__(self, values=None):\n",
    "        self.head = None\n",
    "        self.tail = None\n",
    "        if values is not None:\n",
    "            self.add_multiple(values)\n",
    "\n",
    "    def __iter__(self):\n",
    "        current = self.head\n",
    "        while current:\n",
    "            yield current\n",
    "            current = current.next\n",
    "\n",
    "    def __str__(self):\n",
    "        values = [str(x) for x in self]\n",
    "        return ' -> '.join(values)\n",
    "\n",
    "    def __len__(self):\n",
    "        result = 0\n",
    "        node = self.head\n",
    "        while node:\n",
    "            result += 1\n",
    "            node = node.next\n",
    "        return result\n",
    "\n",
    "    def add(self, value):\n",
    "        if self.head is None:\n",
    "            self.tail = self.head = LinkedListNode(value)\n",
    "        else:\n",
    "            self.tail.next = LinkedListNode(value)\n",
    "            self.tail = self.tail.next\n",
    "        return self.tail\n",
    "\n",
    "    def add_to_beginning(self, value):\n",
    "        if self.head is None:\n",
    "            self.tail = self.head = LinkedListNode(value)\n",
    "        else:\n",
    "            self.head = LinkedListNode(value, self.head)\n",
    "        return self.head\n",
    "\n",
    "    def add_multiple(self, values):\n",
    "        for v in values:\n",
    "            self.add(v)\n",
    "\n",
    "    def generate(self, n, min_value, max_value):\n",
    "        self.head = self.tail = None\n",
    "        for i in range(n):\n",
    "            self.add(randint(min_value, max_value))\n",
    "        return self\n",
    "\n",
    "\n",
    "class DoublyLinkedList(LinkedList):\n",
    "\n",
    "    def add(self, value):\n",
    "        if self.head is None:\n",
    "            self.tail = self.head = LinkedListNode(value, None, self.tail)\n",
    "        else:\n",
    "            self.tail.next = LinkedListNode(value)\n",
    "            self.tail = self.tail.next\n",
    "        return self"
   ]
  },
  {
   "cell_type": "markdown",
   "metadata": {},
   "source": [
    "# ch2.1 Remove Dups"
   ]
  },
  {
   "cell_type": "code",
   "execution_count": 4,
   "metadata": {},
   "outputs": [],
   "source": [
    "def remove_dups(ll):\n",
    "    ''' 刪除 linked list 重複值的節點，O(n)，使用hash table紀錄重複值 '''\n",
    "    buffer = {}\n",
    "    current = ll.head\n",
    "    prev = None\n",
    "    \n",
    "    while(current):\n",
    "        if buffer.get(current.value, False):\n",
    "            prev.next = current.next\n",
    "        else:\n",
    "            buffer[current.value] = True\n",
    "            prev = current\n",
    "        current = current.next\n",
    "\n",
    "def remove_dups2(ll):\n",
    "    ''' 刪除 linked list 重複值的節點，O(n^2)+O(1)，\n",
    "        使用兩個指標一個記錄current一個當runner刪除後續同值節點'''\n",
    "    \n",
    "    current = ll.head\n",
    "    \n",
    "    while(current):\n",
    "        runner = current\n",
    "        while runner.next:\n",
    "            if runner.next.data == current.data:\n",
    "                runner.next = runeer.next.next\n",
    "            else:\n",
    "                runner = runner.next\n",
    "                \n",
    "        current = current.next\n",
    "        "
   ]
  },
  {
   "cell_type": "code",
   "execution_count": 5,
   "metadata": {},
   "outputs": [
    {
     "name": "stderr",
     "output_type": "stream",
     "text": [
      "..\n",
      "----------------------------------------------------------------------\n",
      "Ran 2 tests in 0.010s\n",
      "\n",
      "OK\n"
     ]
    }
   ],
   "source": [
    "class TestRemoveDups(unittest.TestCase):\n",
    "    def setUp(self):\n",
    "        self.ll = LinkedList().generate(100,0,9)\n",
    "        \n",
    "\n",
    "    def test_remove_dups(self):\n",
    "        ll = copy.deepcopy(self.ll)\n",
    "        s = set()\n",
    "        remove_dups(ll)\n",
    "        \n",
    "        for i in ll:\n",
    "            self.assertNotIn(i.value, s)\n",
    "            s.add(i.value)\n",
    "        \n",
    "        for i in self.ll:\n",
    "            self.assertIn(i.value, s)\n",
    "            \n",
    "    \n",
    "    def test_remove_dups2(self):\n",
    "        ll = copy.deepcopy(self.ll)\n",
    "        s = set()\n",
    "        remove_dups(ll)\n",
    "        \n",
    "        for i in ll:\n",
    "            self.assertNotIn(i.value, s)\n",
    "            s.add(i.value)\n",
    "        \n",
    "        for i in self.ll:\n",
    "            self.assertIn(i.value, s)\n",
    "        \n",
    "        \n",
    "runtest(TestRemoveDups)"
   ]
  },
  {
   "cell_type": "markdown",
   "metadata": {},
   "source": [
    "# ch2.2 Return Kth To Last(*)"
   ]
  },
  {
   "cell_type": "code",
   "execution_count": 6,
   "metadata": {},
   "outputs": [
    {
     "name": "stdout",
     "output_type": "stream",
     "text": [
      "5 -> 52 -> 69 -> 5 -> 57 -> 1 -> 6 -> 49 -> 39 -> 16\n",
      "49\n"
     ]
    }
   ],
   "source": [
    "def retrun_kth_to_last(ll, k):\n",
    "    ''' 從後數來第k個元素，O(n)，使用兩個指標第一個先移到第k個元素，\n",
    "    之後一起往後，等到第一個到最後，第二個就是要的第n-k個元素'''\n",
    "    runner = current = ll.head\n",
    "    \n",
    "    for i in range(k):\n",
    "        if runner is None:\n",
    "            return None\n",
    "        runner = runner.next\n",
    "        \n",
    "    while runner:\n",
    "        runner = runner.next\n",
    "        current = current.next\n",
    "        \n",
    "    return current\n",
    "\n",
    "ll = LinkedList()\n",
    "ll.generate(10, 0, 99)\n",
    "print(ll)\n",
    "print(retrun_kth_to_last(ll, 3))"
   ]
  },
  {
   "cell_type": "code",
   "execution_count": 7,
   "metadata": {},
   "outputs": [
    {
     "name": "stderr",
     "output_type": "stream",
     "text": [
      "."
     ]
    },
    {
     "name": "stdout",
     "output_type": "stream",
     "text": [
      "Linked list 20 -> 85 -> 59 -> 52 -> 79 -> 71 -> 65 -> 21 -> 55 -> 57\n",
      "從後往前數第8個為59\n"
     ]
    },
    {
     "name": "stderr",
     "output_type": "stream",
     "text": [
      "\n",
      "----------------------------------------------------------------------\n",
      "Ran 1 test in 0.002s\n",
      "\n",
      "OK\n"
     ]
    }
   ],
   "source": [
    "class TestReturnKthToLast(unittest.TestCase):\n",
    "    def setUp(self):\n",
    "        self.ll = LinkedList().generate(10,0,99)\n",
    "        \n",
    "\n",
    "    def test_retrun_kth_to_last(self):\n",
    "        k = random.randint(1,10)\n",
    "        ll = copy.deepcopy(self.ll)\n",
    "        ans = retrun_kth_to_last(ll, k)\n",
    "        current = ll.head\n",
    "        for i in range(10 - k):\n",
    "            current = current.next\n",
    "        print(f\"Linked list {self.ll}\\n從後往前數第{k}個為{ans.value}\")\n",
    "        self.assertEqual(ans.value, current.value)\n",
    "        \n",
    "runtest(TestReturnKthToLast)          "
   ]
  },
  {
   "cell_type": "markdown",
   "metadata": {},
   "source": [
    "# ch2.3 Delete Middle Node"
   ]
  },
  {
   "cell_type": "code",
   "execution_count": 8,
   "metadata": {},
   "outputs": [],
   "source": [
    "def delete_middle_node(node):\n",
    "    ''' 只給一個節點要在linked list裡刪除它'''\n",
    "    \n",
    "    ## delete tail no answer\n",
    "    if node is None or node.next is None:\n",
    "        return False\n",
    "    \n",
    "    ## 複製下一個節點的值，以及下下節點的連結\n",
    "    node.value = node.next.value\n",
    "    node.next = node.next.next\n",
    "    return True\n"
   ]
  },
  {
   "cell_type": "code",
   "execution_count": 9,
   "metadata": {},
   "outputs": [
    {
     "name": "stderr",
     "output_type": "stream",
     "text": [
      "."
     ]
    },
    {
     "name": "stdout",
     "output_type": "stream",
     "text": [
      "Linked list 81 -> 64 -> 72 -> 14 -> 13 -> 86 -> 27 -> 36 -> 68 -> 85\n",
      "刪除第8個值36\n",
      "81 -> 64 -> 72 -> 14 -> 13 -> 86 -> 27 -> 68 -> 85\n"
     ]
    },
    {
     "name": "stderr",
     "output_type": "stream",
     "text": [
      "\n",
      "----------------------------------------------------------------------\n",
      "Ran 1 test in 0.003s\n",
      "\n",
      "OK\n"
     ]
    }
   ],
   "source": [
    "class TestDeleteMiddleNode(unittest.TestCase):\n",
    "    def setUp(self):\n",
    "        self.ll = LinkedList().generate(10,0,99)\n",
    "        \n",
    "\n",
    "    def test_delete_middle_node(self):\n",
    "        ## 隨機選擇中間節點\n",
    "        k = random.randint(1,9)        \n",
    "        ptr1 = self.ll.head\n",
    "        for i in range(k-1):\n",
    "            ptr1 = ptr1.next            \n",
    "        delet_node_value = ptr1.value\n",
    "        \n",
    "        print(f\"Linked list {self.ll}\\n刪除第{k}個值{ptr1.value}\")\n",
    "        self.assertTrue(delete_middle_node(ptr1))\n",
    "        print(self.ll)\n",
    "        \n",
    "        ptr2 = self.ll.head\n",
    "        while(ptr2):\n",
    "            self.assertNotEqual(ptr2.value, delet_node_value)\n",
    "            ptr2 = ptr2.next\n",
    "       \n",
    "\n",
    "    \n",
    "    \n",
    "runtest(TestDeleteMiddleNode)          "
   ]
  },
  {
   "cell_type": "markdown",
   "metadata": {},
   "source": [
    "# ch2.4 Partition(*)"
   ]
  },
  {
   "cell_type": "code",
   "execution_count": 10,
   "metadata": {},
   "outputs": [],
   "source": [
    "def partition(node: LinkedListNode, x: int) -> LinkedListNode:\n",
    "    ''' 給 linked list head 和一個值 x，將所有小於x的值放在大於等於x值的左邊\n",
    "        ，分成兩個 linked list 在串再一起'''\n",
    "    s_start = None\n",
    "    s_end = None\n",
    "    l_start = None\n",
    "    l_end = None\n",
    "    \n",
    "    while node:\n",
    "        nextnode = node.next\n",
    "        node.next = None\n",
    "        \n",
    "        if node.value < x:\n",
    "            if s_start is None:\n",
    "                s_start = node\n",
    "                s_end = s_start\n",
    "            else:\n",
    "                s_end.next = node\n",
    "                s_end = node      \n",
    "        else:\n",
    "            if l_start is None:\n",
    "                l_start = node\n",
    "                l_end = l_start\n",
    "            else:\n",
    "                l_end.next = node\n",
    "                l_end = node\n",
    "        node = nextnode\n",
    "        \n",
    "    if s_start:\n",
    "        s_end.next = l_start\n",
    "    else:\n",
    "        s_start = l_start\n",
    "    \n",
    "    return s_start\n",
    "    \n",
    "def partition1(node: LinkedListNode, x: int) -> LinkedListNode:\n",
    "    ''' 給 linked list head 和一個值 x，將所有小於x的值放在大於等於x值的左邊\n",
    "        ，直接往左右邊擴展，較簡潔'''\n",
    "    start = None\n",
    "    end = None\n",
    "    \n",
    "    while node:\n",
    "        nextnode = node.next\n",
    "        \n",
    "        if node.value < x:\n",
    "            node.next = start\n",
    "            start = node\n",
    "        else:\n",
    "            end.next = node\n",
    "            end = node\n",
    "            \n",
    "        node = nextnode\n",
    "    \n",
    "    end.next = None\n",
    "    \n",
    "    return head"
   ]
  },
  {
   "cell_type": "code",
   "execution_count": 11,
   "metadata": {},
   "outputs": [
    {
     "name": "stderr",
     "output_type": "stream",
     "text": [
      ".."
     ]
    },
    {
     "name": "stdout",
     "output_type": "stream",
     "text": [
      "89 -> 73 -> 11 -> 67 -> 2 -> 37 -> 24 -> 55 -> 66 -> 19\n",
      "比8還小的數：\n",
      "2 \n",
      "比8還大的數：\n",
      "89 73 11 67 37 24 55 66 19 \n",
      "2 -> 89 -> 73 -> 11 -> 67 -> 37 -> 24 -> 55 -> 66 -> 19\n",
      "\n",
      "15 -> 29 -> 59 -> 48 -> 15 -> 69 -> 55 -> 96 -> 86 -> 46\n",
      "比26還小的數：\n",
      "15 15 \n",
      "比26還大的數：\n",
      "29 59 48 69 55 96 86 46 \n",
      "15 -> 15 -> 29 -> 59 -> 48 -> 69 -> 55 -> 96 -> 86 -> 46\n",
      "\n"
     ]
    },
    {
     "name": "stderr",
     "output_type": "stream",
     "text": [
      "\n",
      "----------------------------------------------------------------------\n",
      "Ran 2 tests in 0.003s\n",
      "\n",
      "OK\n"
     ]
    }
   ],
   "source": [
    "class TestPartition(unittest.TestCase):\n",
    "    def setUp(self):\n",
    "        self.ll = LinkedList().generate(10,0,99)\n",
    "        print(self.ll)\n",
    "        \n",
    "    def tearDown(self):\n",
    "        print(f\"\\n{self.ll}\\n\")\n",
    "        \n",
    "    def test_partition(self):\n",
    "        x =  random.randint(0,99)\n",
    "        head = partition(self.ll.head, x)\n",
    "        ptr = self.ll.head = head\n",
    "        while ptr:\n",
    "            if ptr.value > x:\n",
    "                break       \n",
    "            else:\n",
    "                ptr = ptr.next\n",
    "        \n",
    "        print(f\"比{x}還小的數：\")\n",
    "        while head:\n",
    "            if head == ptr:\n",
    "                break\n",
    "            else:\n",
    "                self.assertLess(head.value, x)\n",
    "                print(head.value, end=\" \")\n",
    "                head = head.next\n",
    "        print(f\"\\n比{x}還大的數：\")\n",
    "        while head:\n",
    "            self.assertGreaterEqual(head.value, x)\n",
    "            print(head.value, end=\" \")\n",
    "            head = head.next\n",
    "\n",
    "    def test_partition1(self):\n",
    "        x =  random.randint(0,99)   \n",
    "        head = partition(self.ll.head, x)\n",
    "        ptr = self.ll.head = head\n",
    "        while ptr:\n",
    "            if ptr.value > x:\n",
    "                break       \n",
    "            else:\n",
    "                ptr = ptr.next\n",
    "        \n",
    "        print(f\"比{x}還小的數：\")\n",
    "        while head:\n",
    "            if head == ptr:\n",
    "                break\n",
    "            else:\n",
    "                self.assertLess(head.value, x)\n",
    "                print(head.value, end=\" \")\n",
    "                head = head.next\n",
    "        print(f\"\\n比{x}還大的數：\")\n",
    "        while head:\n",
    "            self.assertGreaterEqual(head.value, x)\n",
    "            print(head.value, end=\" \")\n",
    "            head = head.next\n",
    "\n",
    "\n",
    "    \n",
    "runtest(TestPartition)          "
   ]
  },
  {
   "cell_type": "code",
   "execution_count": null,
   "metadata": {},
   "outputs": [],
   "source": []
  },
  {
   "cell_type": "code",
   "execution_count": null,
   "metadata": {},
   "outputs": [],
   "source": []
  }
 ],
 "metadata": {
  "kernelspec": {
   "display_name": "Python 3",
   "language": "python",
   "name": "python3"
  },
  "language_info": {
   "codemirror_mode": {
    "name": "ipython",
    "version": 3
   },
   "file_extension": ".py",
   "mimetype": "text/x-python",
   "name": "python",
   "nbconvert_exporter": "python",
   "pygments_lexer": "ipython3",
   "version": "3.7.4"
  }
 },
 "nbformat": 4,
 "nbformat_minor": 2
}
