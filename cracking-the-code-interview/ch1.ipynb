{
 "cells": [
  {
   "cell_type": "code",
   "execution_count": 198,
   "metadata": {},
   "outputs": [],
   "source": [
    "import unittest, time\n",
    "def runtest(class_name):\n",
    "    suite = unittest.TestSuite()\n",
    "    suite = unittest.TestLoader().loadTestsFromTestCase(class_name)\n",
    "    unittest.TextTestRunner().run(suite)"
   ]
  },
  {
   "cell_type": "markdown",
   "metadata": {},
   "source": [
    "# 1.1 Is Unique"
   ]
  },
  {
   "cell_type": "code",
   "execution_count": 122,
   "metadata": {},
   "outputs": [],
   "source": [
    "def unique(string):\n",
    "    '''O(n)'''\n",
    "    \n",
    "    # Assuming character set is ASCII (128 characters), Unicode = 2 byte = 65536\n",
    "    if len(string) > 128:\n",
    "        return False\n",
    "\n",
    "    char_set = [False for i in range(128)]\n",
    "    for char in string:\n",
    "        val = ord(char)\n",
    "        if char_set[val]:\n",
    "            return False\n",
    "        char_set[val] = True\n",
    "    return True"
   ]
  },
  {
   "cell_type": "markdown",
   "metadata": {},
   "source": [
    "## if space complexity = O(1)"
   ]
  },
  {
   "cell_type": "code",
   "execution_count": 123,
   "metadata": {},
   "outputs": [],
   "source": [
    "def unique2(string):\n",
    "    '''O(n^2)'''\n",
    "    \n",
    "    l = len(string)\n",
    "    for i in range(0, l-1):\n",
    "        for j in range(i+1, l):\n",
    "            if string[i] == string[j]:\n",
    "                return False\n",
    "    return True \n",
    "\n",
    "def unique3(string):\n",
    "    '''O(nlogn)'''\n",
    "    \n",
    "    s = ''.join(sorted(string)) \n",
    "    for i in range(0, len(s)-1):\n",
    "        if s[i] == s[i+1]:\n",
    "            return False\n",
    "    return True\n"
   ]
  },
  {
   "cell_type": "code",
   "execution_count": 222,
   "metadata": {},
   "outputs": [
    {
     "name": "stderr",
     "output_type": "stream",
     "text": [
      ".\n",
      "----------------------------------------------------------------------\n",
      "Ran 1 test in 0.003s\n",
      "\n",
      "OK\n"
     ]
    }
   ],
   "source": [
    "class TestUnique(unittest.TestCase):\n",
    "    def setUp(self):\n",
    "        self.dataT = [('abcd'), ('s4fad'), ('')]\n",
    "        self.dataF = [('23ds2'), ('hb 627jh=j ()')]\n",
    "        self.test_funcs = [unique, unique2, unique3]\n",
    "\n",
    "    def test_unique(self):\n",
    "        # true check\n",
    "        for unique in self.test_funcs:\n",
    "            for test_string in self.dataT:\n",
    "                actual = unique(test_string)\n",
    "                self.assertTrue(actual)\n",
    "            # false check\n",
    "            for test_string in self.dataF:\n",
    "                actual = unique(test_string)\n",
    "                self.assertFalse(actual)\n",
    "            \n",
    "runtest(TestUnique)"
   ]
  },
  {
   "cell_type": "markdown",
   "metadata": {},
   "source": [
    "# 1.2 Check Permutation"
   ]
  },
  {
   "cell_type": "code",
   "execution_count": 143,
   "metadata": {},
   "outputs": [],
   "source": [
    "from collections import Counter\n",
    "def check_permutation(s: str, t:str) -> bool:\n",
    "    ''' use counter'''\n",
    "    if len(s) != len(t):\n",
    "        return False\n",
    "    counter = Counter(s)\n",
    "    for c in t:\n",
    "        if counter[c] == 0:\n",
    "            return False\n",
    "        counter[c] -= 1\n",
    "    return True\n",
    "\n",
    "def check_permutation2(s: str, t:str) -> bool:\n",
    "    ''' sorted and compare'''\n",
    "    return sorted(s) == sorted(t)"
   ]
  },
  {
   "cell_type": "code",
   "execution_count": 149,
   "metadata": {},
   "outputs": [
    {
     "name": "stderr",
     "output_type": "stream",
     "text": [
      "..\n",
      "----------------------------------------------------------------------\n",
      "Ran 2 tests in 0.005s\n",
      "\n",
      "OK\n"
     ]
    }
   ],
   "source": [
    "class TestCheckPermutation(unittest.TestCase):\n",
    "    def setUp(self):\n",
    "        self.dataT = (\n",
    "            ('abcd', 'bacd'),\n",
    "            ('3563476', '7334566'),\n",
    "            ('wef34f', 'wffe34'),\n",
    "        )\n",
    "        self.dataF = (\n",
    "            ('abcd', 'd2cba'),\n",
    "            ('2354', '1234'),\n",
    "            ('dcw4f', 'dcw5f'),\n",
    "        )\n",
    "\n",
    "    def test_check_permutation(self):\n",
    "        # true check\n",
    "        for test_strings in self.dataT:\n",
    "            result = check_permutation(*test_strings)\n",
    "            self.assertTrue(result)\n",
    "        # false check\n",
    "        for test_strings in self.dataF:\n",
    "            result = check_permutation(*test_strings)\n",
    "            self.assertFalse(result)\n",
    "    \n",
    "    def test_check_permutation2(self):\n",
    "        # true check\n",
    "        for test_strings in self.dataT:\n",
    "            result = check_permutation2(*test_strings)\n",
    "            self.assertTrue(result)\n",
    "        # false check\n",
    "        for test_strings in self.dataF:\n",
    "            result = check_permutation2(*test_strings)\n",
    "            self.assertFalse(result)\n",
    "\n",
    "runtest(TestCheckPermutation)"
   ]
  },
  {
   "cell_type": "markdown",
   "metadata": {},
   "source": [
    "# 1.3 URLify"
   ]
  },
  {
   "cell_type": "code",
   "execution_count": 174,
   "metadata": {},
   "outputs": [],
   "source": [
    "def urlify(s: str, l: int) -> str:\n",
    "    \n",
    "    space = 0\n",
    "    s = list(s)\n",
    "    index = len(s)\n",
    "    for i in range(l):\n",
    "        if s[i] == ' ':\n",
    "            space += 1\n",
    "            \n",
    "    for i in reversed(range(l)):\n",
    "        ## Change from back to front\n",
    "        if s[i] == ' ':\n",
    "            s[index-3: index] = \"%20\"\n",
    "            index -= 3\n",
    "        else:\n",
    "            s[index-1] = s[i]\n",
    "            index -= 1\n",
    "    return ''.join(s)"
   ]
  },
  {
   "cell_type": "code",
   "execution_count": 175,
   "metadata": {},
   "outputs": [
    {
     "name": "stderr",
     "output_type": "stream",
     "text": [
      ".\n",
      "----------------------------------------------------------------------\n",
      "Ran 1 test in 0.001s\n",
      "\n",
      "OK\n"
     ]
    }
   ],
   "source": [
    "class TestUrlify(unittest.TestCase):\n",
    "    '''Test Cases'''\n",
    "    data = [\n",
    "        ('much ado about nothing      ', 22, 'much%20ado%20about%20nothing'),\n",
    "        ('Mr John Smith    ', 13, 'Mr%20John%20Smith')]\n",
    "\n",
    "    def test_urlify(self):\n",
    "        for [test_string, length, expected] in self.data:\n",
    "            actual = urlify(test_string, length)\n",
    "            self.assertEqual(actual, expected)\n",
    "            \n",
    "runtest(TestUrlify)"
   ]
  },
  {
   "cell_type": "markdown",
   "metadata": {},
   "source": [
    "# 1.4 Palindrome Permutation"
   ]
  },
  {
   "cell_type": "markdown",
   "metadata": {},
   "source": [
    "# 1.5 One Way"
   ]
  },
  {
   "cell_type": "code",
   "execution_count": 224,
   "metadata": {},
   "outputs": [],
   "source": [
    "def one_way(s1: str, s2: str) -> bool:\n",
    "    edited = False\n",
    "    l1, l2 = len(s1), len(s2)\n",
    "    \n",
    "    # Confirm that the difference is only one char\n",
    "    if abs(l1 - l2) > 1:\n",
    "        return False\n",
    "    # let s1 < s2\n",
    "    elif l1 > l2:\n",
    "        s1, s2 = s2, s1\n",
    "\n",
    "\n",
    "    # insert & delete\n",
    "    if l1 != l2:\n",
    "        i, j = 0, 0\n",
    "        while i < len(s1) and j < len(s2):\n",
    "            if s1[i] != s2[j]:        \n",
    "                if edited:\n",
    "                    return False\n",
    "                edited = True\n",
    "                j += 1\n",
    "            else:\n",
    "                i += 1\n",
    "                j += 1\n",
    "            \n",
    "    # replace\n",
    "    else:\n",
    "        for c1, c2 in zip(s1, s2):\n",
    "            if c1 != c2:\n",
    "                if edited == True:\n",
    "                    return False\n",
    "                else:\n",
    "                    edited = True\n",
    "\n",
    "    return True      "
   ]
  },
  {
   "cell_type": "code",
   "execution_count": 225,
   "metadata": {
    "scrolled": false
   },
   "outputs": [
    {
     "name": "stderr",
     "output_type": "stream",
     "text": [
      ".\n",
      "----------------------------------------------------------------------\n",
      "Ran 1 test in 0.002s\n",
      "\n",
      "OK\n"
     ]
    }
   ],
   "source": [
    "class TestOneWay(unittest.TestCase):\n",
    "    def setUp(self):\n",
    "        self.test_cases = [\n",
    "            # no changes\n",
    "            (\"pale\", \"pale\", True),\n",
    "            (\"\", \"\", True),\n",
    "            # one insert\n",
    "            (\"pale\", \"ple\", True),\n",
    "            (\"ple\", \"pale\", True),\n",
    "            (\"pales\", \"pale\", True),\n",
    "            (\"ples\", \"pales\", True),\n",
    "            (\"pale\", \"pkle\", True),\n",
    "            (\"paleabc\", \"pleabc\", True),\n",
    "            (\"\", \"d\", True),\n",
    "            (\"d\", \"de\", True),\n",
    "            # one replace\n",
    "            (\"pale\", \"bale\", True),\n",
    "            (\"a\", \"b\", True),\n",
    "            (\"pale\", \"ble\", False),\n",
    "            # multiple replace\n",
    "            (\"pale\", \"bake\", False),\n",
    "            # insert and replace\n",
    "            (\"pale\", \"pse\", False),\n",
    "            (\"pale\", \"pas\", False),\n",
    "            (\"pas\", \"pale\", False),\n",
    "            (\"pkle\", \"pable\", False),\n",
    "            (\"pal\", \"palks\", False),\n",
    "            (\"palks\", \"pal\", False),\n",
    "            # permutation with insert shouldn't match\n",
    "            (\"ale\", \"elas\", False),\n",
    "        ]\n",
    "\n",
    "    def test_one_away(self):  \n",
    "        for [s1, s2, expected] in self.test_cases:\n",
    "             self.assertEqual(one_way(s1, s2), expected)\n",
    "            \n",
    "runtest(TestOneWay)"
   ]
  },
  {
   "cell_type": "markdown",
   "metadata": {},
   "source": [
    "# 1.6 Compress String"
   ]
  },
  {
   "cell_type": "markdown",
   "metadata": {},
   "source": [
    "# 1.7 Rotate Matrix"
   ]
  },
  {
   "cell_type": "markdown",
   "metadata": {},
   "source": [
    "# 1.8 Zero Matrix"
   ]
  },
  {
   "cell_type": "markdown",
   "metadata": {},
   "source": [
    "# 1.9 String Rotation"
   ]
  },
  {
   "cell_type": "code",
   "execution_count": null,
   "metadata": {},
   "outputs": [],
   "source": []
  }
 ],
 "metadata": {
  "kernelspec": {
   "display_name": "Python 3",
   "language": "python",
   "name": "python3"
  },
  "language_info": {
   "codemirror_mode": {
    "name": "ipython",
    "version": 3
   },
   "file_extension": ".py",
   "mimetype": "text/x-python",
   "name": "python",
   "nbconvert_exporter": "python",
   "pygments_lexer": "ipython3",
   "version": "3.7.4"
  }
 },
 "nbformat": 4,
 "nbformat_minor": 2
}
