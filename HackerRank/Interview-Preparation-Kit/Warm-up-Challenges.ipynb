{
 "cells": [
  {
   "cell_type": "markdown",
   "metadata": {},
   "source": [
    "# Sales by Match"
   ]
  },
  {
   "cell_type": "code",
   "execution_count": 30,
   "metadata": {},
   "outputs": [
    {
     "data": {
      "text/plain": [
       "3"
      ]
     },
     "execution_count": 30,
     "metadata": {},
     "output_type": "execute_result"
    }
   ],
   "source": [
    "def sockMerchant(n, ar):\n",
    "    d = {}\n",
    "    count =0\n",
    "    for color in ar:\n",
    "        if d.get(color, False):\n",
    "            d[color] += 1\n",
    "        else:\n",
    "            d[color] = 1\n",
    "\n",
    "    for i in d.values():\n",
    "        count += i // 2\n",
    "    return count\n",
    "\n",
    "sockMerchant(9,[10, 20, 20, 10, 10, 30, 50, 10, 20])\n",
    "# 3 pairs"
   ]
  },
  {
   "cell_type": "markdown",
   "metadata": {},
   "source": [
    "# Counting Valleys"
   ]
  },
  {
   "cell_type": "code",
   "execution_count": 32,
   "metadata": {},
   "outputs": [
    {
     "name": "stdout",
     "output_type": "stream",
     "text": [
      "1, 1\n"
     ]
    },
    {
     "data": {
      "text/plain": [
       "1"
      ]
     },
     "execution_count": 32,
     "metadata": {},
     "output_type": "execute_result"
    }
   ],
   "source": [
    "def countingValleys(steps, path):\n",
    "    level = 0\n",
    "    mflag = False\n",
    "    vflag = False\n",
    "    mountain = 0\n",
    "    valley = 0\n",
    "    \n",
    "    for step in path:\n",
    "        if step == 'U':\n",
    "            level += 1\n",
    "        else: \n",
    "            level -= 1\n",
    "        \n",
    "        if level > 0 and mflag is False:\n",
    "            mountain += 1\n",
    "            mflag = True\n",
    "        elif level < 0 and vflag is False:\n",
    "            valley += 1\n",
    "            vflag = True\n",
    "        elif level == 0:\n",
    "            mflag = False\n",
    "            vflag = False\n",
    "            \n",
    "    print(f'{mountain}, {valley}')\n",
    "    return valley\n",
    "\n",
    "\n",
    "# _/\\      _\n",
    "#    \\    /\n",
    "#     \\/\\/\n",
    "countingValleys(8,['U', 'D', 'D', 'D', 'U', 'D', 'U', 'U'])\n",
    "# 1 mountain, 1 valley"
   ]
  },
  {
   "cell_type": "markdown",
   "metadata": {},
   "source": [
    "# Jumping on the Clouds ★"
   ]
  },
  {
   "cell_type": "code",
   "execution_count": 31,
   "metadata": {},
   "outputs": [
    {
     "data": {
      "text/plain": [
       "4"
      ]
     },
     "execution_count": 31,
     "metadata": {},
     "output_type": "execute_result"
    }
   ],
   "source": [
    "def jumpingOnClouds(c):\n",
    "    jump = 0\n",
    "    index = 0\n",
    "    length = len(c) - 1\n",
    "    while 1:\n",
    "        if index == length - 1 or index == length - 2:\n",
    "            jump += 1\n",
    "            break\n",
    "            \n",
    "        if c[index+2] == 0:\n",
    "            index += 2\n",
    "        else:\n",
    "            index += 1\n",
    "        jump += 1\n",
    "            \n",
    "    return jump\n",
    "jumpingOnClouds([0, 0, 1, 0, 0, 1, 0])\n",
    "# jump 4 times"
   ]
  },
  {
   "cell_type": "markdown",
   "metadata": {},
   "source": [
    "# Repeated String"
   ]
  },
  {
   "cell_type": "code",
   "execution_count": 35,
   "metadata": {},
   "outputs": [
    {
     "data": {
      "text/plain": [
       "7"
      ]
     },
     "execution_count": 35,
     "metadata": {},
     "output_type": "execute_result"
    }
   ],
   "source": [
    "def repeatedString(s, n):\n",
    "    # Write your code here\n",
    "    num_of_a = s.count('a')\n",
    "    num_of_s = n // len(s)\n",
    "    remain_len = n % len(s)\n",
    "    total = num_of_a * num_of_s\n",
    "    total += s[:remain_len].count('a')\n",
    "    return total\n",
    "\n",
    "repeatedString('aba', 10)\n",
    "# abaabaaba -> 7's a"
   ]
  },
  {
   "cell_type": "code",
   "execution_count": null,
   "metadata": {},
   "outputs": [],
   "source": []
  }
 ],
 "metadata": {
  "kernelspec": {
   "display_name": "Python 3",
   "language": "python",
   "name": "python3"
  },
  "language_info": {
   "codemirror_mode": {
    "name": "ipython",
    "version": 3
   },
   "file_extension": ".py",
   "mimetype": "text/x-python",
   "name": "python",
   "nbconvert_exporter": "python",
   "pygments_lexer": "ipython3",
   "version": "3.7.4"
  }
 },
 "nbformat": 4,
 "nbformat_minor": 2
}
